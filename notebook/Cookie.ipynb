{
 "cells": [
  {
   "cell_type": "code",
   "execution_count": 1,
   "metadata": {},
   "outputs": [
    {
     "name": "stdout",
     "output_type": "stream",
     "text": [
      "/home/sgp667/Project/bayes_tutorial\n"
     ]
    }
   ],
   "source": [
    "cd .."
   ]
  },
  {
   "cell_type": "code",
   "execution_count": 64,
   "metadata": {},
   "outputs": [],
   "source": [
    "from ipywidgets import interactive, interact,widgets\n",
    "from IPython.display import clear_output, display\n",
    "import matplotlib.pyplot as plt\n",
    "import pandas as pd"
   ]
  },
  {
   "cell_type": "code",
   "execution_count": 8,
   "metadata": {},
   "outputs": [],
   "source": [
    "from src.calculator import SimpleBayes\n",
    "from src.cookies import CookieBowl"
   ]
  },
  {
   "cell_type": "code",
   "execution_count": 113,
   "metadata": {},
   "outputs": [],
   "source": [
    "vanilla1 = 0.75\n",
    "vanilla2 = 0.7\n",
    "Bowl1 = CookieBowl(vanilla=vanilla1)\n",
    "Bowl2 = CookieBowl(vanilla=vanilla2)\n",
    "calculator = SimpleBayes()\n",
    "\n",
    "calculator.add_hypothesis(\"Bowl1\",{\"Chocolate\" : 1-vanilla1, \"Vanilla\" : vanilla1})\n",
    "calculator.add_hypothesis(\"Bowl2\",{\"Chocolate\" : 1-vanilla2, \"Vanilla\" : vanilla2})"
   ]
  },
  {
   "cell_type": "code",
   "execution_count": 141,
   "metadata": {},
   "outputs": [],
   "source": [
    "collected_data = pd.DataFrame.from_dict(\n",
    "    {\n",
    "        'draw'  : [0],\n",
    "        'cookie': [''],\n",
    "        'bowl1':  [0.5],\n",
    "        'bowl2':  [0.5]\n",
    "    },'columns')"
   ]
  },
  {
   "cell_type": "code",
   "execution_count": 142,
   "metadata": {},
   "outputs": [],
   "source": [
    "cookie_button = widgets.Button(description=\"Grab a Cookie\")\n",
    "draws_button = widgets.IntSlider(description=\"Cookies\",min=1,max=10)\n",
    "\n",
    "def grab_a_cookie(x):\n",
    "    cookie = Bowl2.draw()\n",
    "    calculator.update(cookie)\n",
    "    global collected_data\n",
    "    new_data =  pd.DataFrame.from_dict({\n",
    "        'draw'   : [collected_data['draw'].count()],\n",
    "        'cookie' : [cookie],\n",
    "        'bowl1'  : [calculator.get_prior('Bowl1')],\n",
    "        'bowl2'  : [calculator.get_prior('Bowl2')]})\n",
    "    \n",
    "    collected_data = new_data.append(collected_data)\n",
    "    \n",
    "cookie_button.on_click(grab_a_cookie)"
   ]
  },
  {
   "cell_type": "code",
   "execution_count": 145,
   "metadata": {},
   "outputs": [
    {
     "data": {
      "text/html": [
       "<div>\n",
       "<style scoped>\n",
       "    .dataframe tbody tr th:only-of-type {\n",
       "        vertical-align: middle;\n",
       "    }\n",
       "\n",
       "    .dataframe tbody tr th {\n",
       "        vertical-align: top;\n",
       "    }\n",
       "\n",
       "    .dataframe thead th {\n",
       "        text-align: right;\n",
       "    }\n",
       "</style>\n",
       "<table border=\"1\" class=\"dataframe\">\n",
       "  <thead>\n",
       "    <tr style=\"text-align: right;\">\n",
       "      <th></th>\n",
       "      <th>bowl1</th>\n",
       "      <th>bowl2</th>\n",
       "      <th>cookie</th>\n",
       "      <th>draw</th>\n",
       "    </tr>\n",
       "  </thead>\n",
       "  <tbody>\n",
       "    <tr>\n",
       "      <th>0</th>\n",
       "      <td>0.5</td>\n",
       "      <td>0.5</td>\n",
       "      <td></td>\n",
       "      <td>0</td>\n",
       "    </tr>\n",
       "  </tbody>\n",
       "</table>\n",
       "</div>"
      ],
      "text/plain": [
       "   bowl1  bowl2 cookie  draw\n",
       "0    0.5    0.5            0"
      ]
     },
     "metadata": {},
     "output_type": "display_data"
    }
   ],
   "source": [
    "display(cookie_button)\n",
    "display(draws_button)\n",
    "display(collected_data)"
   ]
  },
  {
   "cell_type": "code",
   "execution_count": 136,
   "metadata": {},
   "outputs": [],
   "source": [
    "?display"
   ]
  }
 ],
 "metadata": {
  "anaconda-cloud": {},
  "kernelspec": {
   "display_name": "Python [default]",
   "language": "python",
   "name": "python3"
  },
  "language_info": {
   "codemirror_mode": {
    "name": "ipython",
    "version": 3
   },
   "file_extension": ".py",
   "mimetype": "text/x-python",
   "name": "python",
   "nbconvert_exporter": "python",
   "pygments_lexer": "ipython3",
   "version": "3.5.4"
  },
  "widgets": {
   "state": {
    "10c326d767ff49e79e2e170690b54005": {
     "views": [
      {
       "cell_index": 6
      }
     ]
    },
    "713637fba786459e9689b1f30ab447ab": {
     "views": [
      {
       "cell_index": 6
      }
     ]
    },
    "769ee49666f44e40b85bcf699444037b": {
     "views": [
      {
       "cell_index": 6
      }
     ]
    },
    "935778286c0d4eceb0292d9f9a6878f2": {
     "views": [
      {
       "cell_index": 6
      }
     ]
    },
    "a0403d3438094d9786d76722b92cffb0": {
     "views": [
      {
       "cell_index": 6
      }
     ]
    }
   },
   "version": "1.2.0"
  }
 },
 "nbformat": 4,
 "nbformat_minor": 2
}
