{
 "cells": [
  {
   "cell_type": "code",
   "execution_count": 2,
   "metadata": {},
   "outputs": [],
   "source": [
    "import matplotlib\n"
   ]
  },
  {
   "cell_type": "markdown",
   "metadata": {},
   "source": [
    "# Bayesian Statistics"
   ]
  },
  {
   "cell_type": "markdown",
   "metadata": {},
   "source": [
    "- Alternative to what is thought in schools\n",
    "- Became more usefull with recent advances in math and computation\n",
    "- Works well when data is limited\n",
    "- Applications vary from simple models to state of art machine learning, rocket science"
   ]
  },
  {
   "cell_type": "markdown",
   "metadata": {},
   "source": [
    "## Bayes Rule"
   ]
  },
  {
   "cell_type": "markdown",
   "metadata": {
    "slideshow": {
     "slide_type": "-"
    }
   },
   "source": [
    "### Formal Definition\n",
    "$$P(\\theta\\mid X) = \\frac{P(X\\mid\\theta)P(\\theta)}{P(X)}$$"
   ]
  },
  {
   "cell_type": "markdown",
   "metadata": {},
   "source": [
    "### Formal Definition: Explanation\n",
    "\n",
    "$$P(\\theta\\mid X) = \\frac{P(X\\mid\\theta)P(\\theta)}{P(X)}$$\n",
    "\n",
    "||||  \n",
    "|-----------------:|---|:------------------------------------|  \n",
    "|$P(\\theta\\mid X)$ | = | Posterior                           |     \n",
    "|$P(\\theta)$       | = | Prior                               |  \n",
    "|$P(X\\mid\\theta)$  | = | Conditional Probability (Lieklihood)|  \n",
    "|$P(X)$            | = | Marginal Probability                |  "
   ]
  },
  {
   "cell_type": "markdown",
   "metadata": {},
   "source": [
    "### Formal Definition: Better Explanation\n",
    "\n",
    "$$P(\\theta\\mid X) = \\frac{P(X\\mid\\theta)P(\\theta)}{P(X)}$$\n",
    "\n",
    "$P(\\theta\\mid X)$ = probability that theory $\\theta$ is correct **after** taking into account new data  \n",
    "$P(X\\mid\\theta)$ = probability of seeing this data we just saw assuming that theory $\\theta$ is correct  \n",
    "$P(\\theta)$ = probability that theory $\\theta$ is correct **before** we examine our new data  \n",
    "$P(X)$ = probability of seeing this data without assuming that theory $\\theta$ is correct"
   ]
  },
  {
   "cell_type": "markdown",
   "metadata": {},
   "source": [
    "Next Steps\n",
    "\n",
    "- read Think Bayes by Allen Downey\n",
    "- read Bayesian Methods for Hackers"
   ]
  }
 ],
 "metadata": {
  "kernelspec": {
   "display_name": "Python [default]",
   "language": "python",
   "name": "python3"
  },
  "language_info": {
   "codemirror_mode": {
    "name": "ipython",
    "version": 3
   },
   "file_extension": ".py",
   "mimetype": "text/x-python",
   "name": "python",
   "nbconvert_exporter": "python",
   "pygments_lexer": "ipython3",
   "version": "3.5.4"
  }
 },
 "nbformat": 4,
 "nbformat_minor": 2
}
