{
 "cells": [
  {
   "cell_type": "markdown",
   "metadata": {},
   "source": [
    "# Probability Theory Primer"
   ]
  },
  {
   "cell_type": "markdown",
   "metadata": {},
   "source": [
    " ## Mutually Exclusive Events\n",
    " - H is a probability of heads\n",
    " - T is a probability of tails\n",
    " - It is imposible for a coint not to fall on either heads or tails\n",
    "---- \n",
    " Therefore:\n",
    " \n",
    " $ P(H) + P(T) = 1 $"
   ]
  },
  {
   "cell_type": "markdown",
   "metadata": {},
   "source": [
    "## Joint Probability\n",
    " - A is probability that it will rain tomorrow\n",
    " - B is probability that it will be hot tomorrow\n",
    "----\n",
    "Probability that it will rain **and** be hot tomorrow is:\n",
    "\n",
    "$P(A\\cap B) = P(A) \\times P(B)$\n",
    "\n",
    "Probablity that it will rain **or** be hot tomorrow is(could be both):\n",
    "\n",
    "$P(A\\cup B) = P(A) + P(B)$"
   ]
  },
  {
   "cell_type": "markdown",
   "metadata": {},
   "source": [
    "## Conditional Probability\n",
    " - C is probability that it will be cloudy tomorrow\n",
    " - R is probability that it will rain tomorrow\n",
    "----\n",
    "Probability that is will rain tomorrow:\n",
    "\n",
    "$P(R \\cap C)$\n",
    "\n",
    "Probability that it rain **assuming** that it will be cloudy:\n",
    "\n",
    "$P( R \\mid C) = \\frac{P(R \\cap C)}{P(C)}$"
   ]
  },
  {
   "cell_type": "markdown",
   "metadata": {},
   "source": [
    "## Probability Distributions\n",
    " - Binomial Distribution is probability of __k__ amount of sucesses\n",
    " - Binomial Distribution is parametrised/described by __n__ number of trails, __p__ probability of success at each trail\n",
    " -----\n",
    " Examples:\n",
    "  - Probability that you will get __two prank callers__ if you get __five calls__ a day and __half of callers__ are prank callers"
   ]
  }
 ],
 "metadata": {
  "kernelspec": {
   "display_name": "Python [default]",
   "language": "python",
   "name": "python3"
  },
  "language_info": {
   "codemirror_mode": {
    "name": "ipython",
    "version": 3
   },
   "file_extension": ".py",
   "mimetype": "text/x-python",
   "name": "python",
   "nbconvert_exporter": "python",
   "pygments_lexer": "ipython3",
   "version": "3.5.4"
  }
 },
 "nbformat": 4,
 "nbformat_minor": 2
}
